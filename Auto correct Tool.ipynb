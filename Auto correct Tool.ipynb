{
 "cells": [
  {
   "cell_type": "code",
   "execution_count": 1,
   "id": "d6513d7c",
   "metadata": {},
   "outputs": [
    {
     "name": "stdout",
     "output_type": "stream",
     "text": [
      "Misspe11ed word:  accommadation\n",
      "suggested words: ['accommodation', 'accomodate']\n"
     ]
    }
   ],
   "source": [
    "# Spell Checker\n",
    "\n",
    "import difflib\n",
    "def suggest_words(word, words) :\n",
    "    # use the get_close matches method from diffLib\n",
    "    matches = difflib.get_close_matches(word,words)\n",
    "    # return the List of suggested words\n",
    "    return matches\n",
    "# example usage\n",
    "\n",
    "# misspelled word\n",
    "\n",
    "word = \"accommadation\"\n",
    "\n",
    "# List of possible correct words\n",
    "\n",
    "words = [\"accommodation\", \"accomodate\", \"accompaniment\",\"accomplice\"]\n",
    "\n",
    "# suggest words that are closest to the misspelled word\n",
    "\n",
    "suggested_words = suggest_words(word, words)\n",
    "print(\"Misspe11ed word: \", word)\n",
    "print(\"suggested words:\",suggested_words)\n"
   ]
  },
  {
   "cell_type": "code",
   "execution_count": null,
   "id": "8cc64d36",
   "metadata": {},
   "outputs": [],
   "source": []
  }
 ],
 "metadata": {
  "kernelspec": {
   "display_name": "Python 3 (ipykernel)",
   "language": "python",
   "name": "python3"
  },
  "language_info": {
   "codemirror_mode": {
    "name": "ipython",
    "version": 3
   },
   "file_extension": ".py",
   "mimetype": "text/x-python",
   "name": "python",
   "nbconvert_exporter": "python",
   "pygments_lexer": "ipython3",
   "version": "3.10.6"
  }
 },
 "nbformat": 4,
 "nbformat_minor": 5
}
